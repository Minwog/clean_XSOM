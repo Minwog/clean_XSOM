{
 "cells": [
  {
   "cell_type": "code",
   "execution_count": 2,
   "metadata": {},
   "outputs": [],
   "source": [
    "import matplotlib.pyplot as plt\n",
    "import numpy as np"
   ]
  },
  {
   "cell_type": "code",
   "execution_count": null,
   "metadata": {},
   "outputs": [],
   "source": []
  },
  {
   "cell_type": "code",
   "execution_count": 38,
   "metadata": {},
   "outputs": [
    {
     "name": "stdout",
     "output_type": "stream",
     "text": [
      "100\n",
      "100\n",
      "[[0.0, 1.0, 0.0], [0.01, 0.99, 0.01], [0.02, 0.98, 0.02], [0.03, 0.97, 0.03], [0.04, 0.96, 0.04], [0.05, 0.95, 0.05], [0.06, 0.94, 0.06], [0.07, 0.9299999999999999, 0.07], [0.08, 0.92, 0.08], [0.09, 0.91, 0.09], [0.1, 0.9, 0.1], [0.11, 0.89, 0.11], [0.12, 0.88, 0.12], [0.13, 0.87, 0.13], [0.14, 0.86, 0.14], [0.15, 0.85, 0.15], [0.16, 0.84, 0.16], [0.17, 0.83, 0.17], [0.18, 0.8200000000000001, 0.18], [0.19, 0.81, 0.19], [0.2, 0.8, 0.2], [0.21, 0.79, 0.21], [0.22, 0.78, 0.22], [0.23, 0.77, 0.23], [0.24, 0.76, 0.24], [0.25, 0.75, 0.25], [0.26, 0.74, 0.26], [0.27, 0.73, 0.27], [0.28, 0.72, 0.28], [0.29, 0.71, 0.29], [0.3, 0.7, 0.3], [0.31, 0.69, 0.31], [0.32, 0.6799999999999999, 0.32], [0.33, 0.6699999999999999, 0.33], [0.34, 0.6599999999999999, 0.34], [0.35000000000000003, 0.6499999999999999, 0.35000000000000003], [0.36, 0.64, 0.36], [0.37, 0.63, 0.37], [0.38, 0.62, 0.38], [0.39, 0.61, 0.39], [0.4, 0.6, 0.4], [0.41000000000000003, 0.59, 0.41000000000000003], [0.42, 0.5800000000000001, 0.42], [0.43, 0.5700000000000001, 0.43], [0.44, 0.56, 0.44], [0.45, 0.55, 0.45], [0.46, 0.54, 0.46], [0.47000000000000003, 0.53, 0.47000000000000003], [0.48, 0.52, 0.48], [0.49, 0.51, 0.49], [0.5, 0.5, 0.5], [0.51, 0.49, 0.51], [0.52, 0.48, 0.52], [0.53, 0.47, 0.53], [0.54, 0.45999999999999996, 0.54], [0.55, 0.44999999999999996, 0.55], [0.56, 0.43999999999999995, 0.56], [0.5700000000000001, 0.42999999999999994, 0.5700000000000001], [0.58, 0.42000000000000004, 0.58], [0.59, 0.41000000000000003, 0.59], [0.6, 0.4, 0.6], [0.61, 0.39, 0.61], [0.62, 0.38, 0.62], [0.63, 0.37, 0.63], [0.64, 0.36, 0.64], [0.65, 0.35, 0.65], [0.66, 0.33999999999999997, 0.66], [0.67, 0.32999999999999996, 0.67], [0.68, 0.31999999999999995, 0.68], [0.6900000000000001, 0.30999999999999994, 0.6900000000000001], [0.7000000000000001, 0.29999999999999993, 0.7000000000000001], [0.71, 0.29000000000000004, 0.71], [0.72, 0.28, 0.72], [0.73, 0.27, 0.73], [0.74, 0.26, 0.74], [0.75, 0.25, 0.75], [0.76, 0.24, 0.76], [0.77, 0.22999999999999998, 0.77], [0.78, 0.21999999999999997, 0.78], [0.79, 0.20999999999999996, 0.79], [0.8, 0.19999999999999996, 0.8], [0.81, 0.18999999999999995, 0.81], [0.8200000000000001, 0.17999999999999994, 0.8200000000000001], [0.8300000000000001, 0.16999999999999993, 0.8300000000000001], [0.84, 0.16000000000000003, 0.84], [0.85, 0.15000000000000002, 0.85], [0.86, 0.14, 0.86], [0.87, 0.13, 0.87], [0.88, 0.12, 0.88], [0.89, 0.10999999999999999, 0.89], [0.9, 0.09999999999999998, 0.9], [0.91, 0.08999999999999997, 0.91], [0.92, 0.07999999999999996, 0.92], [0.93, 0.06999999999999995, 0.93], [0.9400000000000001, 0.05999999999999994, 0.9400000000000001], [0.9500000000000001, 0.04999999999999993, 0.9500000000000001], [0.96, 0.040000000000000036, 0.96], [0.97, 0.030000000000000027, 0.97], [0.98, 0.020000000000000018, 0.98], [0.99, 0.010000000000000009, 0.99]]\n"
     ]
    }
   ],
   "source": [
    "x = list(np.arange(0.,1.,0.01))\n",
    "y = np.zeros((len(x),1)) \n",
    "colors = [[1-xx, (1-xx), xx ]for xx in x]\n",
    "print(len(x))\n",
    "print(len(y))\n",
    "print(colors)"
   ]
  },
  {
   "cell_type": "code",
   "execution_count": 39,
   "metadata": {},
   "outputs": [
    {
     "data": {
      "image/png": "[encoded data removed]",
      "text/plain": [
       "<Figure size 432x288 with 1 Axes>"
      ]
     },
     "metadata": {
      "needs_background": "light"
     },
     "output_type": "display_data"
    }
   ],
   "source": [
    "plt.figure()\n",
    "plt.scatter(x,y,c= colors, s=100)\n",
    "plt.show()"
   ]
  },
  {
   "cell_type": "code",
   "execution_count": 44,
   "metadata": {},
   "outputs": [
    {
     "name": "stdout",
     "output_type": "stream",
     "text": [
      "(4, 5)\n"
     ]
    }
   ],
   "source": [
    "colortab = np.asarray([[0.2,0.4,0.6,0.8,1.],[0.2,0.2,0.8,0.4,0.2],[1.,0.6,0.4,1.,0.6],[0.6,0.8,0.6,0.4,0.8]])\n",
    "print(colortab.shape)\n",
    "colorgrid = np.zeros((500,500,3))\n",
    "input1 = 0\n",
    "input2 = 0\n",
    "\n",
    "for i in range(0,499):\n",
    "    for j in range(0,499):\n",
    "        idx1 = int(np.floor(input1*5))\n",
    "        idx2 = int(np.floor(input2*4))\n",
    "        color = colortab[idx2,idx1]\n",
    "        colorgrid[i,j,0] = color\n",
    "        colorgrid[i,j,1] = color*color\n",
    "        colorgrid[i,j,2] = (1-color)*(1-color)\n",
    "        input1 = input1 + 0.002\n",
    "    input2 = input2 + 0.002\n",
    "    input1 = 0\n"
   ]
  },
  {
   "cell_type": "code",
   "execution_count": 33,
   "metadata": {},
   "outputs": [
    {
     "data": {
      "text/plain": [
       "4"
      ]
     },
     "execution_count": 33,
     "metadata": {},
     "output_type": "execute_result"
    }
   ],
   "source": [
    "int(np.floor(499*0.002*5))"
   ]
  },
  {
   "cell_type": "code",
   "execution_count": 45,
   "metadata": {},
   "outputs": [
    {
     "data": {
      "image/png": "[encoded data removed]",
      "text/plain": [
       "<Figure size 432x288 with 1 Axes>"
      ]
     },
     "metadata": {
      "needs_background": "light"
     },
     "output_type": "display_data"
    }
   ],
   "source": [
    "plt.figure()\n",
    "plt.imshow(colorgrid)\n",
    "plt.show()"
   ]
  },
  {
   "cell_type": "code",
   "execution_count": null,
   "metadata": {},
   "outputs": [],
   "source": []
  }
 ],
 "metadata": {
  "kernelspec": {
   "display_name": "Python 3",
   "language": "python",
   "name": "python3"
  },
  "language_info": {
   "codemirror_mode": {
    "name": "ipython",
    "version": 3
   },
   "file_extension": ".py",
   "mimetype": "text/x-python",
   "name": "python",
   "nbconvert_exporter": "python",
   "pygments_lexer": "ipython3",
   "version": "3.6.8"
  }
 },
 "nbformat": 4,
 "nbformat_minor": 2
}
